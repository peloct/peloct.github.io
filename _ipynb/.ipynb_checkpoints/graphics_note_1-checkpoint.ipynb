{
 "cells": [
  {
   "cell_type": "markdown",
   "metadata": {},
   "source": [
    "---\n",
    "title: 그래픽스 공부 1. 디스플레이\n",
    "categories: [study]\n",
    "comments: true\n",
    "---"
   ]
  },
  {
   "cell_type": "markdown",
   "metadata": {},
   "source": [
    "## pixel value 와 light intensity\n",
    "\n",
    "단적으로 사람은 빛의 세기 (밝고 어두운 정도)의 비선형적인 변화(exponential한 변화)를 선형적으로 느끼는 듯하다.\n",
    "\n",
    "예를 들어, 빛의 intensity가 1에서 2로 된 것과 2에서 4로 된 것을 같은 정도의 변화라고 느낀다.\n",
    "\n",
    "인간이 느낄 수 있는 최소 변화 비율은 1.02 만큼의 변화라고 하는데\n",
    "\n",
    "어떤 display가 출력하는 최소 intensity가 $I_{min}$, 최대 intensity가 $I_{max}$ 이면,\n",
    "\n",
    "$$I_{min} * (1.02)^n = I_{max}$$\n",
    "\n",
    "의 방정식을 푸는 것으로써, 해당 display에서 부드러운 그라데이션을 형성하기 위해 총 몇 번의 step을 거쳐야 하는지 알 수 있다.\n",
    "\n",
    "또한 이 그라데이션은 사람이 인지하기에 선형적으로 증가하는 것처럼 보일 것이다.\n",
    "\n",
    "여기서 $I_{max}\\over I_{min}$ 을 dynamic range라고 하는데,\n",
    "\n",
    "dynamic range가 클 수록, 부드러운 그라데이션을 형성하기 위해 필요한 $n$의 사이즈가 커진다.\n",
    "\n",
    "그리고 이는 pixel의 밝기를 저장하기 위해서 요구되는 bit의 수가 증가한다는 것을 의미한다.\n",
    "\n",
    "$$2^{bit number} \\ge \\log_{1.02} {I_{max}\\over I_{min}}$$\n",
    "\n",
    "일반적인 모니터에서는 dynamic range가 100 이라고 하는데 위의 식을 풀어보면,"
   ]
  },
  {
   "cell_type": "code",
   "execution_count": 1,
   "metadata": {},
   "outputs": [
    {
     "data": {
      "text/plain": [
       "7.861418811173846"
      ]
     },
     "execution_count": 1,
     "metadata": {},
     "output_type": "execute_result"
    }
   ],
   "source": [
    "import numpy as np\n",
    "\n",
    "a = np.log(100.0) / np.log(1.02)\n",
    "min_bit_number = np.log(a) / np.log(2.0)\n",
    "min_bit_number"
   ]
  },
  {
   "cell_type": "markdown",
   "metadata": {},
   "source": [
    "최소한 8bit가 필요하다는 것을 알 수 있다.\n",
    "\n",
    "그리고 여기에서 알 수 있는 것은 pixel value는 실제 빛의 밝기가 아닌 인지적으로 선형적인 밝기를 나타내는 값임을 알 수 있다.\n",
    "\n",
    "graphic library에서 pixel value를 넘겨주면, 이것을 display가 표현 가능한 실제 출력으로 변환하여 표시한다고 한다."
   ]
  },
  {
   "cell_type": "code",
   "execution_count": 6,
   "metadata": {},
   "outputs": [
    {
     "data": {
      "image/png": "[encoded data removed]",
      "text/plain": [
       "<Figure size 432x288 with 1 Axes>"
      ]
     },
     "metadata": {
      "needs_background": "light"
     },
     "output_type": "display_data"
    }
   ],
   "source": [
    "import matplotlib.pyplot as plt\n",
    "\n",
    "i_min = 1.0\n",
    "i_max = 100.0\n",
    "\n",
    "n = np.log(i_max / i_min) / np.log(1.02)\n",
    "\n",
    "x = np.array([(i / 999.0) for i in range(1000)])\n",
    "y = i_min * (1.02 ** (n * x))\n",
    "\n",
    "plt.plot(x, y)\n",
    "plt.show()"
   ]
  },
  {
   "cell_type": "markdown",
   "metadata": {},
   "source": [
    "이상적으로는 대강 위와 같은 매핑으로 출력한다고 한다.(가로: normalized pixel value, 세로: intensity)\n",
    "\n",
    "그렇기 때문에 만약 픽셀에 저장한 값이 물리적인 빛의 intensity라면,\n",
    "\n",
    "모니터에 해당 intensity가 표시되도록 보정해줄 필요가 있다.\n",
    "\n",
    "이를 gamma correction이라고 한다."
   ]
  },
  {
   "cell_type": "markdown",
   "metadata": {},
   "source": [
    "## Dynamic range와 환경\n",
    "\n",
    "dynamic range의 정의가 $I_{max} \\over I_{min}$ 이기 때문에, 외부의 빛이 모니터로부터 반사하는 환경에서 dynamic range를 측정하게 되면\n",
    "\n",
    "$${I_{max} + k} \\over {I_{min} + k}$$\n",
    "\n",
    "와 같은 값이 측정값이 된다. ($k$ 는 반사하는 빛의 세기)\n",
    "\n",
    "따라서 dynamic range는 측정하는 환경의 조명 상태에 따라 변하게 된다.\n",
    "\n",
    "영화관에서 외부의 빛을 최대한 줄여주는 이유는 이 때문이다."
   ]
  }
 ],
 "metadata": {
  "kernelspec": {
   "display_name": "Python 3",
   "language": "python",
   "name": "python3"
  },
  "language_info": {
   "codemirror_mode": {
    "name": "ipython",
    "version": 3
   },
   "file_extension": ".py",
   "mimetype": "text/x-python",
   "name": "python",
   "nbconvert_exporter": "python",
   "pygments_lexer": "ipython3",
   "version": "3.8.5"
  }
 },
 "nbformat": 4,
 "nbformat_minor": 4
}
